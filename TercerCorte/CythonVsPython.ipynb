{
  "nbformat": 4,
  "nbformat_minor": 0,
  "metadata": {
    "colab": {
      "provenance": [],
      "collapsed_sections": []
    },
    "kernelspec": {
      "name": "python3",
      "display_name": "Python 3"
    },
    "language_info": {
      "name": "python"
    }
  },
  "cells": [
    {
      "cell_type": "markdown",
      "metadata": {
        "id": "Lh9s-1f4xzLo"
      },
      "source": [
        "<p align = center  \n",
        "<br>\n",
        "<img src=\"https://res-5.cloudinary.com/crunchbase-production/image/upload/c_lpad,h_256,w_256,f_auto,q_auto:eco/v1455514364/pim02bzqvgz0hibsra41.png\" align=\"center\"><br><FONT FACE=\"times new roman\" SIZE=5>\n",
        "<b>Problema planeta en orbita</b>\n",
        "<br>\n",
        "<i><b>Autor:</b></i> Herlendy Alejandro Sanchez Gaitan\n",
        "<br>\n",
        "<i><b>Asignatura:</b></i> Computación Paralela y distribuida\n",
        "<br>\n",
        "<i><b>Docente:</b></i> Jhon Corredor\n",
        "<br>\n",
        "<i><b>Fecha: </b> 8/11/2022\n",
        "<br>\n",
        "<b>Ciencias de la computación e inteligencia artificial</b></i>\n",
        "<br>\n",
        "</FONT>\n",
        "</p>"
      ]
    },
    {
      "cell_type": "code",
      "execution_count": 1,
      "metadata": {
        "id": "S7QKbzAEjoM6"
      },
      "outputs": [],
      "source": [
        "import numpy as np\n",
        "import random \n",
        "import math\n",
        "import random \n",
        "from statistics import mean\n",
        "import matplotlib.pyplot as plt\n",
        "import scipy.stats as stats\n",
        "import seaborn as sns\n",
        "import pandas as pd"
      ]
    },
    {
      "cell_type": "code",
      "source": [
        "df = pd.read_csv(\"/content/drive/MyDrive/data/planeta.csv\",header = None)\n",
        "df.columns = [\"Python\",\"Cython\"]"
      ],
      "metadata": {
        "id": "Hi3nx475zSnD"
      },
      "execution_count": 21,
      "outputs": []
    },
    {
      "cell_type": "markdown",
      "source": [
        "###Link del repositorio: https://github.com/AlejandroSanchez01/Parallel_Distributed_Computing/tree/main/TercerCorte\n",
        "\n"
      ],
      "metadata": {
        "id": "eIGpoa_u97tW"
      }
    },
    {
      "cell_type": "markdown",
      "source": [
        "##***Observaciones:***\n",
        "\n",
        "Se puede acelerar Python es combinándolo con código en Cython, dado Cython permite el uso de módulos y variables de tipo C. De esta manera, se puede obtener una velocidad de C, manteniendo la simplicidad de sintaxis proporcionada por Python.\n",
        "\n",
        "Python es un lenguaje interpretado, lo que significa que ejecuta directamente el código línea por línea, si existen errores en el código del programa, su ejecución se detiene. Así, los programadores pueden encontrar errores en el código con rapidez. Sin embargo, esto hace que su rendimiento disminuya respecto a Cython, el cual es un lenguaje de programación para simplificar la escritura de módulos de extensión para Python en C y C++."
      ],
      "metadata": {
        "id": "tAy4Z5j16MjO"
      }
    },
    {
      "cell_type": "code",
      "source": [
        "df"
      ],
      "metadata": {
        "colab": {
          "base_uri": "https://localhost:8080/",
          "height": 363
        },
        "id": "7GsOz1ef0Kzy",
        "outputId": "930b57d3-0ab7-4737-d892-682efdf01622"
      },
      "execution_count": 26,
      "outputs": [
        {
          "output_type": "execute_result",
          "data": {
            "text/plain": [
              "    Python   Cython\n",
              "0  5.95348  0.33056\n",
              "1  5.54708  0.32333\n",
              "2  6.56600  0.43753\n",
              "3  7.26321  0.38384\n",
              "4  6.63478  0.39482\n",
              "5  6.51698  0.36495\n",
              "6  6.42028  0.42869\n",
              "7  6.72348  0.33974\n",
              "8  6.08681  0.35840\n",
              "9  6.71875  0.39523"
            ],
            "text/html": [
              "\n",
              "  <div id=\"df-624b2c60-407d-4e5d-95c8-3f367546d428\">\n",
              "    <div class=\"colab-df-container\">\n",
              "      <div>\n",
              "<style scoped>\n",
              "    .dataframe tbody tr th:only-of-type {\n",
              "        vertical-align: middle;\n",
              "    }\n",
              "\n",
              "    .dataframe tbody tr th {\n",
              "        vertical-align: top;\n",
              "    }\n",
              "\n",
              "    .dataframe thead th {\n",
              "        text-align: right;\n",
              "    }\n",
              "</style>\n",
              "<table border=\"1\" class=\"dataframe\">\n",
              "  <thead>\n",
              "    <tr style=\"text-align: right;\">\n",
              "      <th></th>\n",
              "      <th>Python</th>\n",
              "      <th>Cython</th>\n",
              "    </tr>\n",
              "  </thead>\n",
              "  <tbody>\n",
              "    <tr>\n",
              "      <th>0</th>\n",
              "      <td>5.95348</td>\n",
              "      <td>0.33056</td>\n",
              "    </tr>\n",
              "    <tr>\n",
              "      <th>1</th>\n",
              "      <td>5.54708</td>\n",
              "      <td>0.32333</td>\n",
              "    </tr>\n",
              "    <tr>\n",
              "      <th>2</th>\n",
              "      <td>6.56600</td>\n",
              "      <td>0.43753</td>\n",
              "    </tr>\n",
              "    <tr>\n",
              "      <th>3</th>\n",
              "      <td>7.26321</td>\n",
              "      <td>0.38384</td>\n",
              "    </tr>\n",
              "    <tr>\n",
              "      <th>4</th>\n",
              "      <td>6.63478</td>\n",
              "      <td>0.39482</td>\n",
              "    </tr>\n",
              "    <tr>\n",
              "      <th>5</th>\n",
              "      <td>6.51698</td>\n",
              "      <td>0.36495</td>\n",
              "    </tr>\n",
              "    <tr>\n",
              "      <th>6</th>\n",
              "      <td>6.42028</td>\n",
              "      <td>0.42869</td>\n",
              "    </tr>\n",
              "    <tr>\n",
              "      <th>7</th>\n",
              "      <td>6.72348</td>\n",
              "      <td>0.33974</td>\n",
              "    </tr>\n",
              "    <tr>\n",
              "      <th>8</th>\n",
              "      <td>6.08681</td>\n",
              "      <td>0.35840</td>\n",
              "    </tr>\n",
              "    <tr>\n",
              "      <th>9</th>\n",
              "      <td>6.71875</td>\n",
              "      <td>0.39523</td>\n",
              "    </tr>\n",
              "  </tbody>\n",
              "</table>\n",
              "</div>\n",
              "      <button class=\"colab-df-convert\" onclick=\"convertToInteractive('df-624b2c60-407d-4e5d-95c8-3f367546d428')\"\n",
              "              title=\"Convert this dataframe to an interactive table.\"\n",
              "              style=\"display:none;\">\n",
              "        \n",
              "  <svg xmlns=\"http://www.w3.org/2000/svg\" height=\"24px\"viewBox=\"0 0 24 24\"\n",
              "       width=\"24px\">\n",
              "    <path d=\"M0 0h24v24H0V0z\" fill=\"none\"/>\n",
              "    <path d=\"M18.56 5.44l.94 2.06.94-2.06 2.06-.94-2.06-.94-.94-2.06-.94 2.06-2.06.94zm-11 1L8.5 8.5l.94-2.06 2.06-.94-2.06-.94L8.5 2.5l-.94 2.06-2.06.94zm10 10l.94 2.06.94-2.06 2.06-.94-2.06-.94-.94-2.06-.94 2.06-2.06.94z\"/><path d=\"M17.41 7.96l-1.37-1.37c-.4-.4-.92-.59-1.43-.59-.52 0-1.04.2-1.43.59L10.3 9.45l-7.72 7.72c-.78.78-.78 2.05 0 2.83L4 21.41c.39.39.9.59 1.41.59.51 0 1.02-.2 1.41-.59l7.78-7.78 2.81-2.81c.8-.78.8-2.07 0-2.86zM5.41 20L4 18.59l7.72-7.72 1.47 1.35L5.41 20z\"/>\n",
              "  </svg>\n",
              "      </button>\n",
              "      \n",
              "  <style>\n",
              "    .colab-df-container {\n",
              "      display:flex;\n",
              "      flex-wrap:wrap;\n",
              "      gap: 12px;\n",
              "    }\n",
              "\n",
              "    .colab-df-convert {\n",
              "      background-color: #E8F0FE;\n",
              "      border: none;\n",
              "      border-radius: 50%;\n",
              "      cursor: pointer;\n",
              "      display: none;\n",
              "      fill: #1967D2;\n",
              "      height: 32px;\n",
              "      padding: 0 0 0 0;\n",
              "      width: 32px;\n",
              "    }\n",
              "\n",
              "    .colab-df-convert:hover {\n",
              "      background-color: #E2EBFA;\n",
              "      box-shadow: 0px 1px 2px rgba(60, 64, 67, 0.3), 0px 1px 3px 1px rgba(60, 64, 67, 0.15);\n",
              "      fill: #174EA6;\n",
              "    }\n",
              "\n",
              "    [theme=dark] .colab-df-convert {\n",
              "      background-color: #3B4455;\n",
              "      fill: #D2E3FC;\n",
              "    }\n",
              "\n",
              "    [theme=dark] .colab-df-convert:hover {\n",
              "      background-color: #434B5C;\n",
              "      box-shadow: 0px 1px 3px 1px rgba(0, 0, 0, 0.15);\n",
              "      filter: drop-shadow(0px 1px 2px rgba(0, 0, 0, 0.3));\n",
              "      fill: #FFFFFF;\n",
              "    }\n",
              "  </style>\n",
              "\n",
              "      <script>\n",
              "        const buttonEl =\n",
              "          document.querySelector('#df-624b2c60-407d-4e5d-95c8-3f367546d428 button.colab-df-convert');\n",
              "        buttonEl.style.display =\n",
              "          google.colab.kernel.accessAllowed ? 'block' : 'none';\n",
              "\n",
              "        async function convertToInteractive(key) {\n",
              "          const element = document.querySelector('#df-624b2c60-407d-4e5d-95c8-3f367546d428');\n",
              "          const dataTable =\n",
              "            await google.colab.kernel.invokeFunction('convertToInteractive',\n",
              "                                                     [key], {});\n",
              "          if (!dataTable) return;\n",
              "\n",
              "          const docLinkHtml = 'Like what you see? Visit the ' +\n",
              "            '<a target=\"_blank\" href=https://colab.research.google.com/notebooks/data_table.ipynb>data table notebook</a>'\n",
              "            + ' to learn more about interactive tables.';\n",
              "          element.innerHTML = '';\n",
              "          dataTable['output_type'] = 'display_data';\n",
              "          await google.colab.output.renderOutput(dataTable, element);\n",
              "          const docLink = document.createElement('div');\n",
              "          docLink.innerHTML = docLinkHtml;\n",
              "          element.appendChild(docLink);\n",
              "        }\n",
              "      </script>\n",
              "    </div>\n",
              "  </div>\n",
              "  "
            ]
          },
          "metadata": {},
          "execution_count": 26
        }
      ]
    },
    {
      "cell_type": "code",
      "source": [
        "ax = df.plot.bar(rot=0,figsize=(10,6))\n",
        "plt.title(\"Python vs Cython\")\n",
        "plt.xlabel(\"N° Iteración\")\n",
        "plt.ylabel(\"Tiempo de ejecución\")\n",
        "plt.show()"
      ],
      "metadata": {
        "colab": {
          "base_uri": "https://localhost:8080/",
          "height": 404
        },
        "id": "eN09nh-M10by",
        "outputId": "2f0bac7e-0f01-456b-93bb-deb6566a20d8"
      },
      "execution_count": 65,
      "outputs": [
        {
          "output_type": "display_data",
          "data": {
            "text/plain": [
              "<Figure size 720x432 with 1 Axes>"
            ],
            "image/png": "[encoded data removed]"
          },
          "metadata": {
            "needs_background": "light"
          }
        }
      ]
    },
    {
      "cell_type": "code",
      "source": [
        "lines = df.plot.line(figsize=(10,6))\n",
        "plt.title(\"Python vs Cython\")\n",
        "plt.xlabel(\"N° Iteración\")\n",
        "plt.ylabel(\"Tiempo de ejecución\")\n",
        "plt.xticks(np.arange(0,10))\n",
        "plt.grid()\n",
        "plt.show()"
      ],
      "metadata": {
        "colab": {
          "base_uri": "https://localhost:8080/",
          "height": 404
        },
        "id": "s_IfI05G2fk2",
        "outputId": "ce737b46-378d-468a-80fc-e42aaafd8933"
      },
      "execution_count": 102,
      "outputs": [
        {
          "output_type": "display_data",
          "data": {
            "text/plain": [
              "<Figure size 720x432 with 1 Axes>"
            ],
            "image/png": "[encoded data removed]"
          },
          "metadata": {
            "needs_background": "light"
          }
        }
      ]
    },
    {
      "cell_type": "code",
      "source": [
        "tiempoPython = round(df[\"Python\"].sum()/df.shape[0],3)\n",
        "tiempoCython = round(df[\"Cython\"].sum()/df.shape[0],3)"
      ],
      "metadata": {
        "id": "a-UPlNyf7S9Q"
      },
      "execution_count": 73,
      "outputs": []
    },
    {
      "cell_type": "code",
      "source": [
        "print(\"Tiempo Python:\",tiempoPython)\n",
        "print(\"Tiempo Cython:\",tiempoCython)"
      ],
      "metadata": {
        "colab": {
          "base_uri": "https://localhost:8080/"
        },
        "id": "bppJxqlS7Zju",
        "outputId": "5b0bd993-8fbe-4de6-bfd3-dd30e93d301b"
      },
      "execution_count": 74,
      "outputs": [
        {
          "output_type": "stream",
          "name": "stdout",
          "text": [
            "Tiempo Python: 6.443\n",
            "Tiempo Cython: 0.376\n"
          ]
        }
      ]
    },
    {
      "cell_type": "code",
      "source": [
        "# creating the dataset\n",
        "data = {'Python':tiempoPython, 'Cython':tiempoCython}\n",
        "courses = list(data.keys())\n",
        "values = list(data.values())\n",
        "  \n",
        "fig = plt.figure(figsize = (10, 5))\n",
        " \n",
        "# creating the bar plot\n",
        "plt.bar(courses, values, color =[\"Red\",\"Blue\"],\n",
        "        width = 0.4)\n",
        " \n",
        "plt.xlabel(\"Lenguaje\")\n",
        "plt.ylabel(\"Tiempo (Sg)\")\n",
        "plt.title(\"Tiempo de ejecución promedio Python Vs Cython\")\n",
        "x = [0,1]\n",
        "y = [tiempoPython+0.05,tiempoCython+0.05]\n",
        "resultado = [str(tiempoPython),str(tiempoCython)]\n",
        "plt.text(x[0],y[0],s=resultado[0])\n",
        "plt.text(x[1],y[1],s=resultado[1])\n",
        "plt.show()"
      ],
      "metadata": {
        "colab": {
          "base_uri": "https://localhost:8080/",
          "height": 350
        },
        "id": "eZBpgbWX78Nd",
        "outputId": "d0f4b479-1e52-4207-88c2-9b5285651b74"
      },
      "execution_count": 95,
      "outputs": [
        {
          "output_type": "display_data",
          "data": {
            "text/plain": [
              "<Figure size 720x360 with 1 Axes>"
            ],
            "image/png": "[encoded data removed]"
          },
          "metadata": {
            "needs_background": "light"
          }
        }
      ]
    },
    {
      "cell_type": "markdown",
      "source": [
        "###Aspectos a tener en cuenta:\n",
        "---\n",
        "\n",
        "Las funciones que utiliza cython, se pueden declarar de tres formas distintas: \n",
        "\n",
        "* def: Indica que la función solo puede ser accedida desde una función de Python\n",
        "* cpdef: La función puede acceder desde Python y desde Cython\n",
        "* cdef: La funcion unicamente es accesible desde Cython.\n",
        "\n",
        "* setup.py es el encargado de generar la extensión de Cython al compilarlo.\n",
        "* el script de pyhon, llama el fichero generado por el setup.py para poder importar dicho código de Cython como si fuera un modulo, para psoterior a ello acceder a sus funciones."
      ],
      "metadata": {
        "id": "SpVINSUU4GBg"
      }
    },
    {
      "cell_type": "markdown",
      "source": [
        "###Conclusiones\n",
        "---\n",
        "* Los ficheros que se utilizaron para realizar este experimento se pueden encontrar en Github, los cuales estan a disposición para que se pueda replicar el experimento.\n",
        "\n",
        "* Se hace un analisis exhaustivo de los resultados de bateria de experimentos realizados en Cython y en Python.\n",
        "\n",
        "* Se realiza una metodologia, en donde se replica el código de Python en Cython, para poder obtener un mayor rendimiento, donde se obtuvo que la mayor cantidad de veces Cython es 17 veces aproximadamente más rápido que Python.\n",
        "\n",
        "* Se recomienda dejar el computador aislado, para que no afecte los tiempos de ejecución de un lenguaje de programación respecto al otro.\n",
        "\n",
        "* Se recomienda usar open mpi y paralela con cython para revisar como aumenta el rendimiento."
      ],
      "metadata": {
        "id": "B7wDH2wn25Lh"
      }
    },
    {
      "cell_type": "markdown",
      "source": [
        "###Referencias\n",
        "---\n",
        "* Cython: C-Extensions for Python. (s. f.). https://cython.org/\n",
        "* ¿Qué es Python? | Guía de Python para principiantes de la nube | AWS. (s. f.). Amazon Web Services, Inc. https://aws.amazon.com/es/what-is/python/\n",
        "* Optimizando Python con Cython. (2022, 22 febrero). INLOC Robotics. https://inlocrobotics.com/es/optimizando-python-con-cython/\n"
      ],
      "metadata": {
        "id": "xYmNMQzU26RA"
      }
    }
  ]
}